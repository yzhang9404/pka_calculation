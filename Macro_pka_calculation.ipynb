{
 "cells": [
  {
   "cell_type": "markdown",
   "metadata": {},
   "source": [
    "# Macro pKa calculation"
   ]
  },
  {
   "cell_type": "markdown",
   "metadata": {},
   "source": [
    "This script is used for the calulation of macro pKa for SM25-46 states based on different data sources.  \n",
    "First, **SM25** will be used for an example to show the process of the calculation. Also we use energy information from the file: **pKa-ECRISM-1.csv**"
   ]
  },
  {
   "cell_type": "code",
   "execution_count": 1,
   "metadata": {
    "collapsed": false
   },
   "outputs": [],
   "source": [
    "import pandas as pd\n",
    "import numpy as np\n",
    "import os"
   ]
  },
  {
   "cell_type": "code",
   "execution_count": 2,
   "metadata": {
    "collapsed": false
   },
   "outputs": [
    {
     "name": "stdout",
     "output_type": "stream",
     "text": [
      "Index(['Molecule Id', 'ID tag ', 'total charge', 'pKa mean', 'pKa SEM',\n",
      "       'pKa model uncertainty', 'SMILES of extra microstate', 'Unnamed: 7',\n",
      "       'Unnamed: 8', 'Unnamed: 9', 'Unnamed: 10', 'Unnamed: 11'],\n",
      "      dtype='object')\n"
     ]
    },
    {
     "data": {
      "text/html": [
       "<div>\n",
       "<style scoped>\n",
       "    .dataframe tbody tr th:only-of-type {\n",
       "        vertical-align: middle;\n",
       "    }\n",
       "\n",
       "    .dataframe tbody tr th {\n",
       "        vertical-align: top;\n",
       "    }\n",
       "\n",
       "    .dataframe thead th {\n",
       "        text-align: right;\n",
       "    }\n",
       "</style>\n",
       "<table border=\"1\" class=\"dataframe\">\n",
       "  <thead>\n",
       "    <tr style=\"text-align: right;\">\n",
       "      <th></th>\n",
       "      <th>Molecule Id</th>\n",
       "      <th>ID tag</th>\n",
       "      <th>total charge</th>\n",
       "      <th>pKa mean</th>\n",
       "    </tr>\n",
       "  </thead>\n",
       "  <tbody>\n",
       "    <tr>\n",
       "      <th>0</th>\n",
       "      <td>SM25_micro000</td>\n",
       "      <td>SM25_micro003</td>\n",
       "      <td>-1</td>\n",
       "      <td>7.91</td>\n",
       "    </tr>\n",
       "    <tr>\n",
       "      <th>1</th>\n",
       "      <td>SM25_micro000</td>\n",
       "      <td>SM25_micro001</td>\n",
       "      <td>-1</td>\n",
       "      <td>-6.66</td>\n",
       "    </tr>\n",
       "    <tr>\n",
       "      <th>2</th>\n",
       "      <td>SM25_micro000</td>\n",
       "      <td>SM25_micro002</td>\n",
       "      <td>0</td>\n",
       "      <td>-7.52</td>\n",
       "    </tr>\n",
       "    <tr>\n",
       "      <th>3</th>\n",
       "      <td>SM25_micro000</td>\n",
       "      <td>SM25_micro004</td>\n",
       "      <td>0</td>\n",
       "      <td>-12.08</td>\n",
       "    </tr>\n",
       "    <tr>\n",
       "      <th>4</th>\n",
       "      <td>SM25_micro000</td>\n",
       "      <td>SM25_micro005</td>\n",
       "      <td>1</td>\n",
       "      <td>-2.33</td>\n",
       "    </tr>\n",
       "  </tbody>\n",
       "</table>\n",
       "</div>"
      ],
      "text/plain": [
       "     Molecule Id        ID tag   total charge  pKa mean\n",
       "0  SM25_micro000  SM25_micro003            -1      7.91\n",
       "1  SM25_micro000  SM25_micro001            -1     -6.66\n",
       "2  SM25_micro000  SM25_micro002             0     -7.52\n",
       "3  SM25_micro000  SM25_micro004             0    -12.08\n",
       "4  SM25_micro000  SM25_micro005             1     -2.33"
      ]
     },
     "execution_count": 2,
     "metadata": {},
     "output_type": "execute_result"
    }
   ],
   "source": [
    "data = pd.read_csv('data/pKa-ECRISM-1.csv')\n",
    "print(data.columns)\n",
    "data = data[['Molecule Id', 'ID tag ', 'total charge', 'pKa mean']]\n",
    "data_samp = data[data['Molecule Id'] == 'SM25_micro000']\n",
    "data_samp"
   ]
  },
  {
   "cell_type": "code",
   "execution_count": 3,
   "metadata": {
    "collapsed": false
   },
   "outputs": [
    {
     "data": {
      "text/plain": [
       "['SM25_micro000',\n",
       " 'SM26_micro000',\n",
       " 'SM27_micro000',\n",
       " 'SM28_micro000',\n",
       " 'SM29_micro000',\n",
       " 'SM30_micro000',\n",
       " 'SM31_micro000',\n",
       " 'SM32_micro000',\n",
       " 'SM33_micro000',\n",
       " 'SM34_micro000',\n",
       " 'SM35_micro000',\n",
       " 'SM36_micro000',\n",
       " 'SM37_micro000',\n",
       " 'SM38_micro000',\n",
       " 'SM39_micro000',\n",
       " 'SM40_micro000',\n",
       " 'SM41_micro000',\n",
       " 'SM42_micro000',\n",
       " 'SM43_micro000',\n",
       " 'SM44_micro000',\n",
       " 'SM45_micro000',\n",
       " 'SM46_micro000']"
      ]
     },
     "execution_count": 3,
     "metadata": {},
     "output_type": "execute_result"
    }
   ],
   "source": [
    "list(data['Molecule Id'].unique())"
   ]
  },
  {
   "cell_type": "markdown",
   "metadata": {},
   "source": [
    "From this table, we could see we have 3 catogories of microstates with charge: -1, 0, 1, we need to calculte the energy and charge for each microstate first."
   ]
  },
  {
   "cell_type": "code",
   "execution_count": 4,
   "metadata": {
    "collapsed": false
   },
   "outputs": [
    {
     "data": {
      "text/plain": [
       "['SM25_micro003',\n",
       " 'SM25_micro001',\n",
       " 'SM25_micro002',\n",
       " 'SM25_micro004',\n",
       " 'SM25_micro005']"
      ]
     },
     "execution_count": 4,
     "metadata": {},
     "output_type": "execute_result"
    }
   ],
   "source": [
    "list(data_samp['ID tag '])"
   ]
  },
  {
   "cell_type": "code",
   "execution_count": 5,
   "metadata": {
    "collapsed": false
   },
   "outputs": [
    {
     "name": "stdout",
     "output_type": "stream",
     "text": [
      "['SM25_micro000', 'SM25_micro001', 'SM25_micro002', 'SM25_micro003', 'SM25_micro004', 'SM25_micro005'] [0, -1, 0, -1, 0, 1] [0, -6.66, -7.52, 7.91, -12.08, -2.33]\n"
     ]
    },
    {
     "name": "stderr",
     "output_type": "stream",
     "text": [
      "/Users/zhangyingying/anaconda/lib/python3.5/site-packages/ipykernel/__main__.py:6: UserWarning: Boolean Series key will be reindexed to match DataFrame index.\n",
      "/Users/zhangyingying/anaconda/lib/python3.5/site-packages/ipykernel/__main__.py:7: UserWarning: Boolean Series key will be reindexed to match DataFrame index.\n"
     ]
    },
    {
     "data": {
      "text/html": [
       "<div>\n",
       "<style scoped>\n",
       "    .dataframe tbody tr th:only-of-type {\n",
       "        vertical-align: middle;\n",
       "    }\n",
       "\n",
       "    .dataframe tbody tr th {\n",
       "        vertical-align: top;\n",
       "    }\n",
       "\n",
       "    .dataframe thead th {\n",
       "        text-align: right;\n",
       "    }\n",
       "</style>\n",
       "<table border=\"1\" class=\"dataframe\">\n",
       "  <thead>\n",
       "    <tr style=\"text-align: right;\">\n",
       "      <th></th>\n",
       "      <th>charge</th>\n",
       "      <th>energy</th>\n",
       "      <th>state_name</th>\n",
       "    </tr>\n",
       "  </thead>\n",
       "  <tbody>\n",
       "    <tr>\n",
       "      <th>0</th>\n",
       "      <td>0</td>\n",
       "      <td>0.00</td>\n",
       "      <td>SM25_micro000</td>\n",
       "    </tr>\n",
       "    <tr>\n",
       "      <th>1</th>\n",
       "      <td>-1</td>\n",
       "      <td>-6.66</td>\n",
       "      <td>SM25_micro001</td>\n",
       "    </tr>\n",
       "    <tr>\n",
       "      <th>2</th>\n",
       "      <td>0</td>\n",
       "      <td>-7.52</td>\n",
       "      <td>SM25_micro002</td>\n",
       "    </tr>\n",
       "    <tr>\n",
       "      <th>3</th>\n",
       "      <td>-1</td>\n",
       "      <td>7.91</td>\n",
       "      <td>SM25_micro003</td>\n",
       "    </tr>\n",
       "    <tr>\n",
       "      <th>4</th>\n",
       "      <td>0</td>\n",
       "      <td>-12.08</td>\n",
       "      <td>SM25_micro004</td>\n",
       "    </tr>\n",
       "    <tr>\n",
       "      <th>5</th>\n",
       "      <td>1</td>\n",
       "      <td>-2.33</td>\n",
       "      <td>SM25_micro005</td>\n",
       "    </tr>\n",
       "  </tbody>\n",
       "</table>\n",
       "</div>"
      ],
      "text/plain": [
       "   charge  energy     state_name\n",
       "0       0    0.00  SM25_micro000\n",
       "1      -1   -6.66  SM25_micro001\n",
       "2       0   -7.52  SM25_micro002\n",
       "3      -1    7.91  SM25_micro003\n",
       "4       0  -12.08  SM25_micro004\n",
       "5       1   -2.33  SM25_micro005"
      ]
     },
     "execution_count": 5,
     "metadata": {},
     "output_type": "execute_result"
    }
   ],
   "source": [
    "state = ['SM25_micro000']\n",
    "charge = [0]\n",
    "energy = [0]\n",
    "for i in sorted(list(data_samp['ID tag '])):\n",
    "    state.append(i)\n",
    "    charge.append(int(data_samp[data['ID tag '] == i]['total charge']))\n",
    "    energy.append(float(data_samp[data['ID tag '] == i]['pKa mean']))\n",
    "print(state, charge, energy)\n",
    "\n",
    "state_info = pd.DataFrame({'state_name':state, 'charge':charge, 'energy':energy})\n",
    "state_info"
   ]
  },
  {
   "cell_type": "code",
   "execution_count": 6,
   "metadata": {
    "collapsed": false
   },
   "outputs": [
    {
     "data": {
      "text/html": [
       "<div>\n",
       "<style scoped>\n",
       "    .dataframe tbody tr th:only-of-type {\n",
       "        vertical-align: middle;\n",
       "    }\n",
       "\n",
       "    .dataframe tbody tr th {\n",
       "        vertical-align: top;\n",
       "    }\n",
       "\n",
       "    .dataframe thead th {\n",
       "        text-align: right;\n",
       "    }\n",
       "</style>\n",
       "<table border=\"1\" class=\"dataframe\">\n",
       "  <thead>\n",
       "    <tr style=\"text-align: right;\">\n",
       "      <th></th>\n",
       "      <th>charge</th>\n",
       "      <th>energy</th>\n",
       "      <th>state_name</th>\n",
       "    </tr>\n",
       "  </thead>\n",
       "  <tbody>\n",
       "    <tr>\n",
       "      <th>0</th>\n",
       "      <td>0</td>\n",
       "      <td>0.00</td>\n",
       "      <td>SM25_micro000</td>\n",
       "    </tr>\n",
       "    <tr>\n",
       "      <th>2</th>\n",
       "      <td>0</td>\n",
       "      <td>-7.52</td>\n",
       "      <td>SM25_micro002</td>\n",
       "    </tr>\n",
       "    <tr>\n",
       "      <th>4</th>\n",
       "      <td>0</td>\n",
       "      <td>-12.08</td>\n",
       "      <td>SM25_micro004</td>\n",
       "    </tr>\n",
       "  </tbody>\n",
       "</table>\n",
       "</div>"
      ],
      "text/plain": [
       "   charge  energy     state_name\n",
       "0       0    0.00  SM25_micro000\n",
       "2       0   -7.52  SM25_micro002\n",
       "4       0  -12.08  SM25_micro004"
      ]
     },
     "execution_count": 6,
     "metadata": {},
     "output_type": "execute_result"
    }
   ],
   "source": [
    "state_info.charge.unique()\n",
    "state_info[state_info['charge'] == 0]"
   ]
  },
  {
   "cell_type": "markdown",
   "metadata": {},
   "source": [
    "We have 3 different states with 0 charge, so we need to calculate the probabilty of each state using [Poisson–Boltzmann equation](https://en.wikipedia.org/wiki/Poisson%E2%80%93Boltzmann_equation)"
   ]
  },
  {
   "cell_type": "code",
   "execution_count": 7,
   "metadata": {
    "collapsed": false
   },
   "outputs": [
    {
     "data": {
      "text/html": [
       "<div>\n",
       "<style scoped>\n",
       "    .dataframe tbody tr th:only-of-type {\n",
       "        vertical-align: middle;\n",
       "    }\n",
       "\n",
       "    .dataframe tbody tr th {\n",
       "        vertical-align: top;\n",
       "    }\n",
       "\n",
       "    .dataframe thead th {\n",
       "        text-align: right;\n",
       "    }\n",
       "</style>\n",
       "<table border=\"1\" class=\"dataframe\">\n",
       "  <thead>\n",
       "    <tr style=\"text-align: right;\">\n",
       "      <th></th>\n",
       "      <th>charge</th>\n",
       "      <th>energy</th>\n",
       "      <th>state_name</th>\n",
       "    </tr>\n",
       "  </thead>\n",
       "  <tbody>\n",
       "    <tr>\n",
       "      <th>0</th>\n",
       "      <td>0</td>\n",
       "      <td>0.000000</td>\n",
       "      <td>SM25_micro000</td>\n",
       "    </tr>\n",
       "    <tr>\n",
       "      <th>1</th>\n",
       "      <td>-1</td>\n",
       "      <td>-3.945498</td>\n",
       "      <td>SM25_micro001</td>\n",
       "    </tr>\n",
       "    <tr>\n",
       "      <th>2</th>\n",
       "      <td>0</td>\n",
       "      <td>-4.454976</td>\n",
       "      <td>SM25_micro002</td>\n",
       "    </tr>\n",
       "    <tr>\n",
       "      <th>3</th>\n",
       "      <td>-1</td>\n",
       "      <td>4.686019</td>\n",
       "      <td>SM25_micro003</td>\n",
       "    </tr>\n",
       "    <tr>\n",
       "      <th>4</th>\n",
       "      <td>0</td>\n",
       "      <td>-7.156398</td>\n",
       "      <td>SM25_micro004</td>\n",
       "    </tr>\n",
       "    <tr>\n",
       "      <th>5</th>\n",
       "      <td>1</td>\n",
       "      <td>-1.380332</td>\n",
       "      <td>SM25_micro005</td>\n",
       "    </tr>\n",
       "  </tbody>\n",
       "</table>\n",
       "</div>"
      ],
      "text/plain": [
       "   charge    energy     state_name\n",
       "0       0  0.000000  SM25_micro000\n",
       "1      -1 -3.945498  SM25_micro001\n",
       "2       0 -4.454976  SM25_micro002\n",
       "3      -1  4.686019  SM25_micro003\n",
       "4       0 -7.156398  SM25_micro004\n",
       "5       1 -1.380332  SM25_micro005"
      ]
     },
     "execution_count": 7,
     "metadata": {},
     "output_type": "execute_result"
    }
   ],
   "source": [
    "# Modify the unit first from kcal/mol to kt\n",
    "state_info['energy'] = state_info['energy']/1.688\n",
    "state_info"
   ]
  },
  {
   "cell_type": "markdown",
   "metadata": {},
   "source": [
    "Based on Possion Boltzmann equation, Pi = exp(-ΔE/KT)"
   ]
  },
  {
   "cell_type": "code",
   "execution_count": 8,
   "metadata": {
    "collapsed": false
   },
   "outputs": [
    {
     "data": {
      "text/html": [
       "<div>\n",
       "<style scoped>\n",
       "    .dataframe tbody tr th:only-of-type {\n",
       "        vertical-align: middle;\n",
       "    }\n",
       "\n",
       "    .dataframe tbody tr th {\n",
       "        vertical-align: top;\n",
       "    }\n",
       "\n",
       "    .dataframe thead th {\n",
       "        text-align: right;\n",
       "    }\n",
       "</style>\n",
       "<table border=\"1\" class=\"dataframe\">\n",
       "  <thead>\n",
       "    <tr style=\"text-align: right;\">\n",
       "      <th></th>\n",
       "      <th>charge</th>\n",
       "      <th>energy</th>\n",
       "      <th>state_name</th>\n",
       "      <th>Pi</th>\n",
       "    </tr>\n",
       "  </thead>\n",
       "  <tbody>\n",
       "    <tr>\n",
       "      <th>0</th>\n",
       "      <td>0</td>\n",
       "      <td>0.000000</td>\n",
       "      <td>SM25_micro000</td>\n",
       "      <td>1.000000</td>\n",
       "    </tr>\n",
       "    <tr>\n",
       "      <th>1</th>\n",
       "      <td>-1</td>\n",
       "      <td>-3.945498</td>\n",
       "      <td>SM25_micro001</td>\n",
       "      <td>51.702060</td>\n",
       "    </tr>\n",
       "    <tr>\n",
       "      <th>2</th>\n",
       "      <td>0</td>\n",
       "      <td>-4.454976</td>\n",
       "      <td>SM25_micro002</td>\n",
       "      <td>86.054112</td>\n",
       "    </tr>\n",
       "    <tr>\n",
       "      <th>3</th>\n",
       "      <td>-1</td>\n",
       "      <td>4.686019</td>\n",
       "      <td>SM25_micro003</td>\n",
       "      <td>0.009223</td>\n",
       "    </tr>\n",
       "    <tr>\n",
       "      <th>4</th>\n",
       "      <td>0</td>\n",
       "      <td>-7.156398</td>\n",
       "      <td>SM25_micro004</td>\n",
       "      <td>1282.283952</td>\n",
       "    </tr>\n",
       "    <tr>\n",
       "      <th>5</th>\n",
       "      <td>1</td>\n",
       "      <td>-1.380332</td>\n",
       "      <td>SM25_micro005</td>\n",
       "      <td>3.976221</td>\n",
       "    </tr>\n",
       "  </tbody>\n",
       "</table>\n",
       "</div>"
      ],
      "text/plain": [
       "   charge    energy     state_name           Pi\n",
       "0       0  0.000000  SM25_micro000     1.000000\n",
       "1      -1 -3.945498  SM25_micro001    51.702060\n",
       "2       0 -4.454976  SM25_micro002    86.054112\n",
       "3      -1  4.686019  SM25_micro003     0.009223\n",
       "4       0 -7.156398  SM25_micro004  1282.283952\n",
       "5       1 -1.380332  SM25_micro005     3.976221"
      ]
     },
     "execution_count": 8,
     "metadata": {},
     "output_type": "execute_result"
    }
   ],
   "source": [
    "# Calculate the probability of each state\n",
    "state_info['Pi'] = np.exp(-state_info['energy'])\n",
    "state_info"
   ]
  },
  {
   "cell_type": "code",
   "execution_count": 9,
   "metadata": {
    "collapsed": false
   },
   "outputs": [
    {
     "data": {
      "text/html": [
       "<div>\n",
       "<style scoped>\n",
       "    .dataframe tbody tr th:only-of-type {\n",
       "        vertical-align: middle;\n",
       "    }\n",
       "\n",
       "    .dataframe tbody tr th {\n",
       "        vertical-align: top;\n",
       "    }\n",
       "\n",
       "    .dataframe thead th {\n",
       "        text-align: right;\n",
       "    }\n",
       "</style>\n",
       "<table border=\"1\" class=\"dataframe\">\n",
       "  <thead>\n",
       "    <tr style=\"text-align: right;\">\n",
       "      <th></th>\n",
       "      <th>charge</th>\n",
       "      <th>energy</th>\n",
       "      <th>state_name</th>\n",
       "      <th>Pi</th>\n",
       "      <th>Pi_total</th>\n",
       "    </tr>\n",
       "  </thead>\n",
       "  <tbody>\n",
       "    <tr>\n",
       "      <th>0</th>\n",
       "      <td>0</td>\n",
       "      <td>0.000000</td>\n",
       "      <td>SM25_micro000</td>\n",
       "      <td>1.000000</td>\n",
       "      <td>1369.338063</td>\n",
       "    </tr>\n",
       "    <tr>\n",
       "      <th>1</th>\n",
       "      <td>-1</td>\n",
       "      <td>-3.945498</td>\n",
       "      <td>SM25_micro001</td>\n",
       "      <td>51.702060</td>\n",
       "      <td>51.711284</td>\n",
       "    </tr>\n",
       "    <tr>\n",
       "      <th>2</th>\n",
       "      <td>0</td>\n",
       "      <td>-4.454976</td>\n",
       "      <td>SM25_micro002</td>\n",
       "      <td>86.054112</td>\n",
       "      <td>1369.338063</td>\n",
       "    </tr>\n",
       "    <tr>\n",
       "      <th>3</th>\n",
       "      <td>-1</td>\n",
       "      <td>4.686019</td>\n",
       "      <td>SM25_micro003</td>\n",
       "      <td>0.009223</td>\n",
       "      <td>51.711284</td>\n",
       "    </tr>\n",
       "    <tr>\n",
       "      <th>4</th>\n",
       "      <td>0</td>\n",
       "      <td>-7.156398</td>\n",
       "      <td>SM25_micro004</td>\n",
       "      <td>1282.283952</td>\n",
       "      <td>1369.338063</td>\n",
       "    </tr>\n",
       "    <tr>\n",
       "      <th>5</th>\n",
       "      <td>1</td>\n",
       "      <td>-1.380332</td>\n",
       "      <td>SM25_micro005</td>\n",
       "      <td>3.976221</td>\n",
       "      <td>3.976221</td>\n",
       "    </tr>\n",
       "  </tbody>\n",
       "</table>\n",
       "</div>"
      ],
      "text/plain": [
       "   charge    energy     state_name           Pi     Pi_total\n",
       "0       0  0.000000  SM25_micro000     1.000000  1369.338063\n",
       "1      -1 -3.945498  SM25_micro001    51.702060    51.711284\n",
       "2       0 -4.454976  SM25_micro002    86.054112  1369.338063\n",
       "3      -1  4.686019  SM25_micro003     0.009223    51.711284\n",
       "4       0 -7.156398  SM25_micro004  1282.283952  1369.338063\n",
       "5       1 -1.380332  SM25_micro005     3.976221     3.976221"
      ]
     },
     "execution_count": 9,
     "metadata": {},
     "output_type": "execute_result"
    }
   ],
   "source": [
    "# Calculate the total prob for normalizing\n",
    "state_info['Pi_total'] = state_info.groupby('charge').Pi.transform('sum')\n",
    "state_info"
   ]
  },
  {
   "cell_type": "markdown",
   "metadata": {},
   "source": [
    "Transfer the prob to be normalized"
   ]
  },
  {
   "cell_type": "code",
   "execution_count": 10,
   "metadata": {
    "collapsed": true
   },
   "outputs": [],
   "source": [
    "state_info['Pi_norm'] = state_info['Pi']/state_info['Pi_total']"
   ]
  },
  {
   "cell_type": "code",
   "execution_count": 11,
   "metadata": {
    "collapsed": false
   },
   "outputs": [
    {
     "data": {
      "text/html": [
       "<div>\n",
       "<style scoped>\n",
       "    .dataframe tbody tr th:only-of-type {\n",
       "        vertical-align: middle;\n",
       "    }\n",
       "\n",
       "    .dataframe tbody tr th {\n",
       "        vertical-align: top;\n",
       "    }\n",
       "\n",
       "    .dataframe thead th {\n",
       "        text-align: right;\n",
       "    }\n",
       "</style>\n",
       "<table border=\"1\" class=\"dataframe\">\n",
       "  <thead>\n",
       "    <tr style=\"text-align: right;\">\n",
       "      <th></th>\n",
       "      <th>charge</th>\n",
       "      <th>energy</th>\n",
       "      <th>state_name</th>\n",
       "      <th>Pi</th>\n",
       "      <th>Pi_total</th>\n",
       "      <th>Pi_norm</th>\n",
       "    </tr>\n",
       "  </thead>\n",
       "  <tbody>\n",
       "    <tr>\n",
       "      <th>0</th>\n",
       "      <td>0</td>\n",
       "      <td>0.000000</td>\n",
       "      <td>SM25_micro000</td>\n",
       "      <td>1.000000</td>\n",
       "      <td>1369.338063</td>\n",
       "      <td>0.000730</td>\n",
       "    </tr>\n",
       "    <tr>\n",
       "      <th>1</th>\n",
       "      <td>-1</td>\n",
       "      <td>-3.945498</td>\n",
       "      <td>SM25_micro001</td>\n",
       "      <td>51.702060</td>\n",
       "      <td>51.711284</td>\n",
       "      <td>0.999822</td>\n",
       "    </tr>\n",
       "    <tr>\n",
       "      <th>2</th>\n",
       "      <td>0</td>\n",
       "      <td>-4.454976</td>\n",
       "      <td>SM25_micro002</td>\n",
       "      <td>86.054112</td>\n",
       "      <td>1369.338063</td>\n",
       "      <td>0.062844</td>\n",
       "    </tr>\n",
       "    <tr>\n",
       "      <th>3</th>\n",
       "      <td>-1</td>\n",
       "      <td>4.686019</td>\n",
       "      <td>SM25_micro003</td>\n",
       "      <td>0.009223</td>\n",
       "      <td>51.711284</td>\n",
       "      <td>0.000178</td>\n",
       "    </tr>\n",
       "    <tr>\n",
       "      <th>4</th>\n",
       "      <td>0</td>\n",
       "      <td>-7.156398</td>\n",
       "      <td>SM25_micro004</td>\n",
       "      <td>1282.283952</td>\n",
       "      <td>1369.338063</td>\n",
       "      <td>0.936426</td>\n",
       "    </tr>\n",
       "    <tr>\n",
       "      <th>5</th>\n",
       "      <td>1</td>\n",
       "      <td>-1.380332</td>\n",
       "      <td>SM25_micro005</td>\n",
       "      <td>3.976221</td>\n",
       "      <td>3.976221</td>\n",
       "      <td>1.000000</td>\n",
       "    </tr>\n",
       "  </tbody>\n",
       "</table>\n",
       "</div>"
      ],
      "text/plain": [
       "   charge    energy     state_name           Pi     Pi_total   Pi_norm\n",
       "0       0  0.000000  SM25_micro000     1.000000  1369.338063  0.000730\n",
       "1      -1 -3.945498  SM25_micro001    51.702060    51.711284  0.999822\n",
       "2       0 -4.454976  SM25_micro002    86.054112  1369.338063  0.062844\n",
       "3      -1  4.686019  SM25_micro003     0.009223    51.711284  0.000178\n",
       "4       0 -7.156398  SM25_micro004  1282.283952  1369.338063  0.936426\n",
       "5       1 -1.380332  SM25_micro005     3.976221     3.976221  1.000000"
      ]
     },
     "execution_count": 11,
     "metadata": {},
     "output_type": "execute_result"
    }
   ],
   "source": [
    "state_info"
   ]
  },
  {
   "cell_type": "code",
   "execution_count": 12,
   "metadata": {
    "collapsed": false
   },
   "outputs": [
    {
     "data": {
      "text/html": [
       "<div>\n",
       "<style scoped>\n",
       "    .dataframe tbody tr th:only-of-type {\n",
       "        vertical-align: middle;\n",
       "    }\n",
       "\n",
       "    .dataframe tbody tr th {\n",
       "        vertical-align: top;\n",
       "    }\n",
       "\n",
       "    .dataframe thead th {\n",
       "        text-align: right;\n",
       "    }\n",
       "</style>\n",
       "<table border=\"1\" class=\"dataframe\">\n",
       "  <thead>\n",
       "    <tr style=\"text-align: right;\">\n",
       "      <th></th>\n",
       "      <th>charge</th>\n",
       "      <th>energy</th>\n",
       "      <th>state_name</th>\n",
       "      <th>Pi</th>\n",
       "      <th>Pi_total</th>\n",
       "      <th>Pi_norm</th>\n",
       "      <th>energy_norm</th>\n",
       "    </tr>\n",
       "  </thead>\n",
       "  <tbody>\n",
       "    <tr>\n",
       "      <th>0</th>\n",
       "      <td>0</td>\n",
       "      <td>0.000000</td>\n",
       "      <td>SM25_micro000</td>\n",
       "      <td>1.000000</td>\n",
       "      <td>1369.338063</td>\n",
       "      <td>0.000730</td>\n",
       "      <td>0.000000</td>\n",
       "    </tr>\n",
       "    <tr>\n",
       "      <th>1</th>\n",
       "      <td>-1</td>\n",
       "      <td>-3.945498</td>\n",
       "      <td>SM25_micro001</td>\n",
       "      <td>51.702060</td>\n",
       "      <td>51.711284</td>\n",
       "      <td>0.999822</td>\n",
       "      <td>-3.944794</td>\n",
       "    </tr>\n",
       "    <tr>\n",
       "      <th>2</th>\n",
       "      <td>0</td>\n",
       "      <td>-4.454976</td>\n",
       "      <td>SM25_micro002</td>\n",
       "      <td>86.054112</td>\n",
       "      <td>1369.338063</td>\n",
       "      <td>0.062844</td>\n",
       "      <td>-0.279967</td>\n",
       "    </tr>\n",
       "    <tr>\n",
       "      <th>3</th>\n",
       "      <td>-1</td>\n",
       "      <td>4.686019</td>\n",
       "      <td>SM25_micro003</td>\n",
       "      <td>0.009223</td>\n",
       "      <td>51.711284</td>\n",
       "      <td>0.000178</td>\n",
       "      <td>0.000836</td>\n",
       "    </tr>\n",
       "    <tr>\n",
       "      <th>4</th>\n",
       "      <td>0</td>\n",
       "      <td>-7.156398</td>\n",
       "      <td>SM25_micro004</td>\n",
       "      <td>1282.283952</td>\n",
       "      <td>1369.338063</td>\n",
       "      <td>0.936426</td>\n",
       "      <td>-6.701438</td>\n",
       "    </tr>\n",
       "    <tr>\n",
       "      <th>5</th>\n",
       "      <td>1</td>\n",
       "      <td>-1.380332</td>\n",
       "      <td>SM25_micro005</td>\n",
       "      <td>3.976221</td>\n",
       "      <td>3.976221</td>\n",
       "      <td>1.000000</td>\n",
       "      <td>-1.380332</td>\n",
       "    </tr>\n",
       "  </tbody>\n",
       "</table>\n",
       "</div>"
      ],
      "text/plain": [
       "   charge    energy     state_name           Pi     Pi_total   Pi_norm  \\\n",
       "0       0  0.000000  SM25_micro000     1.000000  1369.338063  0.000730   \n",
       "1      -1 -3.945498  SM25_micro001    51.702060    51.711284  0.999822   \n",
       "2       0 -4.454976  SM25_micro002    86.054112  1369.338063  0.062844   \n",
       "3      -1  4.686019  SM25_micro003     0.009223    51.711284  0.000178   \n",
       "4       0 -7.156398  SM25_micro004  1282.283952  1369.338063  0.936426   \n",
       "5       1 -1.380332  SM25_micro005     3.976221     3.976221  1.000000   \n",
       "\n",
       "   energy_norm  \n",
       "0     0.000000  \n",
       "1    -3.944794  \n",
       "2    -0.279967  \n",
       "3     0.000836  \n",
       "4    -6.701438  \n",
       "5    -1.380332  "
      ]
     },
     "execution_count": 12,
     "metadata": {},
     "output_type": "execute_result"
    }
   ],
   "source": [
    "state_info['energy_norm'] = state_info['Pi_norm']*state_info['energy']\n",
    "state_info"
   ]
  },
  {
   "cell_type": "markdown",
   "metadata": {},
   "source": [
    "G = U - TS, we already get the U, now we calulate the TS using TS = ∑(Pi)ln(Pi)"
   ]
  },
  {
   "cell_type": "code",
   "execution_count": 13,
   "metadata": {
    "collapsed": false
   },
   "outputs": [
    {
     "data": {
      "text/html": [
       "<div>\n",
       "<style scoped>\n",
       "    .dataframe tbody tr th:only-of-type {\n",
       "        vertical-align: middle;\n",
       "    }\n",
       "\n",
       "    .dataframe tbody tr th {\n",
       "        vertical-align: top;\n",
       "    }\n",
       "\n",
       "    .dataframe thead th {\n",
       "        text-align: right;\n",
       "    }\n",
       "</style>\n",
       "<table border=\"1\" class=\"dataframe\">\n",
       "  <thead>\n",
       "    <tr style=\"text-align: right;\">\n",
       "      <th></th>\n",
       "      <th>charge</th>\n",
       "      <th>energy</th>\n",
       "      <th>state_name</th>\n",
       "      <th>Pi</th>\n",
       "      <th>Pi_total</th>\n",
       "      <th>Pi_norm</th>\n",
       "      <th>energy_norm</th>\n",
       "      <th>TS</th>\n",
       "    </tr>\n",
       "  </thead>\n",
       "  <tbody>\n",
       "    <tr>\n",
       "      <th>0</th>\n",
       "      <td>0</td>\n",
       "      <td>0.000000</td>\n",
       "      <td>SM25_micro000</td>\n",
       "      <td>1.000000</td>\n",
       "      <td>1369.338063</td>\n",
       "      <td>0.000730</td>\n",
       "      <td>0.000000</td>\n",
       "      <td>0.005274</td>\n",
       "    </tr>\n",
       "    <tr>\n",
       "      <th>1</th>\n",
       "      <td>-1</td>\n",
       "      <td>-3.945498</td>\n",
       "      <td>SM25_micro001</td>\n",
       "      <td>51.702060</td>\n",
       "      <td>51.711284</td>\n",
       "      <td>0.999822</td>\n",
       "      <td>-3.944794</td>\n",
       "      <td>0.000178</td>\n",
       "    </tr>\n",
       "    <tr>\n",
       "      <th>2</th>\n",
       "      <td>0</td>\n",
       "      <td>-4.454976</td>\n",
       "      <td>SM25_micro002</td>\n",
       "      <td>86.054112</td>\n",
       "      <td>1369.338063</td>\n",
       "      <td>0.062844</td>\n",
       "      <td>-0.279967</td>\n",
       "      <td>0.173895</td>\n",
       "    </tr>\n",
       "    <tr>\n",
       "      <th>3</th>\n",
       "      <td>-1</td>\n",
       "      <td>4.686019</td>\n",
       "      <td>SM25_micro003</td>\n",
       "      <td>0.009223</td>\n",
       "      <td>51.711284</td>\n",
       "      <td>0.000178</td>\n",
       "      <td>0.000836</td>\n",
       "      <td>0.001540</td>\n",
       "    </tr>\n",
       "    <tr>\n",
       "      <th>4</th>\n",
       "      <td>0</td>\n",
       "      <td>-7.156398</td>\n",
       "      <td>SM25_micro004</td>\n",
       "      <td>1282.283952</td>\n",
       "      <td>1369.338063</td>\n",
       "      <td>0.936426</td>\n",
       "      <td>-6.701438</td>\n",
       "      <td>0.061509</td>\n",
       "    </tr>\n",
       "    <tr>\n",
       "      <th>5</th>\n",
       "      <td>1</td>\n",
       "      <td>-1.380332</td>\n",
       "      <td>SM25_micro005</td>\n",
       "      <td>3.976221</td>\n",
       "      <td>3.976221</td>\n",
       "      <td>1.000000</td>\n",
       "      <td>-1.380332</td>\n",
       "      <td>-0.000000</td>\n",
       "    </tr>\n",
       "  </tbody>\n",
       "</table>\n",
       "</div>"
      ],
      "text/plain": [
       "   charge    energy     state_name           Pi     Pi_total   Pi_norm  \\\n",
       "0       0  0.000000  SM25_micro000     1.000000  1369.338063  0.000730   \n",
       "1      -1 -3.945498  SM25_micro001    51.702060    51.711284  0.999822   \n",
       "2       0 -4.454976  SM25_micro002    86.054112  1369.338063  0.062844   \n",
       "3      -1  4.686019  SM25_micro003     0.009223    51.711284  0.000178   \n",
       "4       0 -7.156398  SM25_micro004  1282.283952  1369.338063  0.936426   \n",
       "5       1 -1.380332  SM25_micro005     3.976221     3.976221  1.000000   \n",
       "\n",
       "   energy_norm        TS  \n",
       "0     0.000000  0.005274  \n",
       "1    -3.944794  0.000178  \n",
       "2    -0.279967  0.173895  \n",
       "3     0.000836  0.001540  \n",
       "4    -6.701438  0.061509  \n",
       "5    -1.380332 -0.000000  "
      ]
     },
     "execution_count": 13,
     "metadata": {},
     "output_type": "execute_result"
    }
   ],
   "source": [
    "state_info['TS'] = -state_info['Pi_norm']*np.log(state_info['Pi_norm'])\n",
    "state_info"
   ]
  },
  {
   "cell_type": "code",
   "execution_count": 14,
   "metadata": {
    "collapsed": false
   },
   "outputs": [
    {
     "data": {
      "text/html": [
       "<div>\n",
       "<style scoped>\n",
       "    .dataframe tbody tr th:only-of-type {\n",
       "        vertical-align: middle;\n",
       "    }\n",
       "\n",
       "    .dataframe tbody tr th {\n",
       "        vertical-align: top;\n",
       "    }\n",
       "\n",
       "    .dataframe thead th {\n",
       "        text-align: right;\n",
       "    }\n",
       "</style>\n",
       "<table border=\"1\" class=\"dataframe\">\n",
       "  <thead>\n",
       "    <tr style=\"text-align: right;\">\n",
       "      <th></th>\n",
       "      <th>charge</th>\n",
       "      <th>energy_norm</th>\n",
       "      <th>TS</th>\n",
       "    </tr>\n",
       "  </thead>\n",
       "  <tbody>\n",
       "    <tr>\n",
       "      <th>0</th>\n",
       "      <td>-1</td>\n",
       "      <td>-3.943958</td>\n",
       "      <td>0.001718</td>\n",
       "    </tr>\n",
       "    <tr>\n",
       "      <th>1</th>\n",
       "      <td>0</td>\n",
       "      <td>-6.981405</td>\n",
       "      <td>0.240678</td>\n",
       "    </tr>\n",
       "    <tr>\n",
       "      <th>2</th>\n",
       "      <td>1</td>\n",
       "      <td>-1.380332</td>\n",
       "      <td>0.000000</td>\n",
       "    </tr>\n",
       "  </tbody>\n",
       "</table>\n",
       "</div>"
      ],
      "text/plain": [
       "   charge  energy_norm        TS\n",
       "0      -1    -3.943958  0.001718\n",
       "1       0    -6.981405  0.240678\n",
       "2       1    -1.380332  0.000000"
      ]
     },
     "execution_count": 14,
     "metadata": {},
     "output_type": "execute_result"
    }
   ],
   "source": [
    "sum_energy = state_info.groupby('charge')[['energy_norm', 'TS']].sum().reset_index()\n",
    "sum_energy"
   ]
  },
  {
   "cell_type": "code",
   "execution_count": 15,
   "metadata": {
    "collapsed": false
   },
   "outputs": [
    {
     "data": {
      "text/html": [
       "<div>\n",
       "<style scoped>\n",
       "    .dataframe tbody tr th:only-of-type {\n",
       "        vertical-align: middle;\n",
       "    }\n",
       "\n",
       "    .dataframe tbody tr th {\n",
       "        vertical-align: top;\n",
       "    }\n",
       "\n",
       "    .dataframe thead th {\n",
       "        text-align: right;\n",
       "    }\n",
       "</style>\n",
       "<table border=\"1\" class=\"dataframe\">\n",
       "  <thead>\n",
       "    <tr style=\"text-align: right;\">\n",
       "      <th></th>\n",
       "      <th>charge</th>\n",
       "      <th>energy_norm</th>\n",
       "      <th>TS</th>\n",
       "      <th>G</th>\n",
       "    </tr>\n",
       "  </thead>\n",
       "  <tbody>\n",
       "    <tr>\n",
       "      <th>0</th>\n",
       "      <td>-1</td>\n",
       "      <td>-3.943958</td>\n",
       "      <td>0.001718</td>\n",
       "      <td>-3.945676</td>\n",
       "    </tr>\n",
       "    <tr>\n",
       "      <th>1</th>\n",
       "      <td>0</td>\n",
       "      <td>-6.981405</td>\n",
       "      <td>0.240678</td>\n",
       "      <td>-7.222083</td>\n",
       "    </tr>\n",
       "    <tr>\n",
       "      <th>2</th>\n",
       "      <td>1</td>\n",
       "      <td>-1.380332</td>\n",
       "      <td>0.000000</td>\n",
       "      <td>-1.380332</td>\n",
       "    </tr>\n",
       "  </tbody>\n",
       "</table>\n",
       "</div>"
      ],
      "text/plain": [
       "   charge  energy_norm        TS         G\n",
       "0      -1    -3.943958  0.001718 -3.945676\n",
       "1       0    -6.981405  0.240678 -7.222083\n",
       "2       1    -1.380332  0.000000 -1.380332"
      ]
     },
     "execution_count": 15,
     "metadata": {},
     "output_type": "execute_result"
    }
   ],
   "source": [
    "sum_energy['G'] = sum_energy['energy_norm'] - sum_energy['TS']\n",
    "sum_energy"
   ]
  },
  {
   "cell_type": "code",
   "execution_count": 26,
   "metadata": {
    "collapsed": false
   },
   "outputs": [
    {
     "name": "stdout",
     "output_type": "stream",
     "text": [
      "['test', 'test', None, -5.84175098316547, 3.276406728408587]\n"
     ]
    },
    {
     "data": {
      "text/html": [
       "<div>\n",
       "<style scoped>\n",
       "    .dataframe tbody tr th:only-of-type {\n",
       "        vertical-align: middle;\n",
       "    }\n",
       "\n",
       "    .dataframe tbody tr th {\n",
       "        vertical-align: top;\n",
       "    }\n",
       "\n",
       "    .dataframe thead th {\n",
       "        text-align: right;\n",
       "    }\n",
       "</style>\n",
       "<table border=\"1\" class=\"dataframe\">\n",
       "  <thead>\n",
       "    <tr style=\"text-align: right;\">\n",
       "      <th></th>\n",
       "      <th>source</th>\n",
       "      <th>state</th>\n",
       "      <th>ΔG_2-&gt;1</th>\n",
       "      <th>ΔG_1-&gt;0</th>\n",
       "      <th>ΔG_1-&gt;0</th>\n",
       "    </tr>\n",
       "  </thead>\n",
       "  <tbody>\n",
       "    <tr>\n",
       "      <th>0</th>\n",
       "      <td>test</td>\n",
       "      <td>test</td>\n",
       "      <td>None</td>\n",
       "      <td>-5.841751</td>\n",
       "      <td>3.276407</td>\n",
       "    </tr>\n",
       "  </tbody>\n",
       "</table>\n",
       "</div>"
      ],
      "text/plain": [
       "  source state ΔG_2->1   ΔG_1->0   ΔG_1->0\n",
       "0   test  test    None -5.841751  3.276407"
      ]
     },
     "execution_count": 26,
     "metadata": {},
     "output_type": "execute_result"
    }
   ],
   "source": [
    "final_energy = pd.DataFrame(columns=['source', 'state', 'ΔG_2->1', 'ΔG_1->0', 'ΔG_1->0'])\n",
    "row = ['test', 'test']\n",
    "if 2 in sum_energy.charge.unique() and 1 in sum_energy.charge.unique():\n",
    "    row.append(float(sum_energy[sum_energy['charge'] == 1]['G']) - float(sum_energy[sum_energy['charge'] == 2]['G']))\n",
    "else:\n",
    "    row.append(None)\n",
    "    \n",
    "if 1 in sum_energy.charge.unique() and 0 in sum_energy.charge.unique():\n",
    "    row.append(float(sum_energy[sum_energy['charge'] == 0]['G']) - float(sum_energy[sum_energy['charge'] == 1]['G']))\n",
    "else:\n",
    "    row.append(None)\n",
    "\n",
    "if 0 in sum_energy.charge.unique() and -1 in sum_energy.charge.unique():\n",
    "    row.append(float(sum_energy[sum_energy['charge'] == -1]['G']) - float(sum_energy[sum_energy['charge'] == 0]['G']))\n",
    "else:\n",
    "    row.append(None)\n",
    "print(row)\n",
    "final_energy = pd.DataFrame(columns=['source', 'state', 'ΔG_2->1', 'ΔG_1->0', 'ΔG_1->0'])\n",
    "final_energy.loc[len(final_energy)] = row\n",
    "final_energy"
   ]
  },
  {
   "cell_type": "markdown",
   "metadata": {},
   "source": [
    "## Model for calculating all states in one file"
   ]
  },
  {
   "cell_type": "code",
   "execution_count": 29,
   "metadata": {
    "collapsed": true
   },
   "outputs": [],
   "source": [
    "def energy_calculation(data, source, final_energy):\n",
    "    \n",
    "    data = data[['Molecule Id', 'ID tag ', 'total charge', 'pKa mean']]\n",
    "    micro_list = list(data['Molecule Id'].unique())\n",
    "    for micro in micro_list:\n",
    "        row = [source[:-4], micro[0:4]]\n",
    "        data_samp = data[data['Molecule Id'] == micro]\n",
    "        state = [micro]\n",
    "        charge = [0]\n",
    "        energy = [0]\n",
    "        for i in sorted(list(data_samp['ID tag '])):\n",
    "            state.append(i)\n",
    "            charge.append(int(data_samp[data['ID tag '] == i]['total charge']))\n",
    "            energy.append(float(data_samp[data['ID tag '] == i]['pKa mean']))\n",
    "\n",
    "        state_info = pd.DataFrame({'state_name':state, 'charge':charge, 'energy':energy})\n",
    "        state_info['energy'] = state_info['energy']/1.688\n",
    "        state_info['Pi'] = np.exp(-state_info['energy'])\n",
    "        state_info['Pi_total'] = state_info.groupby('charge').Pi.transform('sum')\n",
    "        state_info['Pi_norm'] = state_info['Pi']/state_info['Pi_total']\n",
    "        state_info['energy_norm'] = state_info['Pi_norm']*state_info['energy']\n",
    "        state_info['TS'] = -state_info['Pi_norm']*np.log(state_info['Pi_norm'])\n",
    "        sum_energy = state_info.groupby('charge')[['energy_norm', 'TS']].sum().reset_index()\n",
    "        sum_energy['G'] = sum_energy['energy_norm'] - sum_energy['TS']\n",
    "        sum_energy['state'] = micro[0:4]\n",
    "\n",
    "        if 2 in sum_energy.charge.unique() and 1 in sum_energy.charge.unique():\n",
    "            row.append(float(sum_energy[sum_energy['charge'] == 1]['G']) - float(sum_energy[sum_energy['charge'] == 2]['G']))\n",
    "        else:\n",
    "            row.append(None)\n",
    "\n",
    "        if 1 in sum_energy.charge.unique() and 0 in sum_energy.charge.unique():\n",
    "            row.append(float(sum_energy[sum_energy['charge'] == 0]['G']) - float(sum_energy[sum_energy['charge'] == 1]['G']))\n",
    "        else:\n",
    "            row.append(None)\n",
    "\n",
    "        if 0 in sum_energy.charge.unique() and -1 in sum_energy.charge.unique():\n",
    "            row.append(float(sum_energy[sum_energy['charge'] == -1]['G']) - float(sum_energy[sum_energy['charge'] == 0]['G']))\n",
    "        else:\n",
    "            row.append(None)\n",
    "        final_energy.loc[len(final_energy)] = row"
   ]
  },
  {
   "cell_type": "markdown",
   "metadata": {},
   "source": [
    "## Calculate for all files"
   ]
  },
  {
   "cell_type": "code",
   "execution_count": 32,
   "metadata": {
    "collapsed": false
   },
   "outputs": [
    {
     "name": "stderr",
     "output_type": "stream",
     "text": [
      "/Users/zhangyingying/anaconda/lib/python3.5/site-packages/ipykernel/__main__.py:13: UserWarning: Boolean Series key will be reindexed to match DataFrame index.\n",
      "/Users/zhangyingying/anaconda/lib/python3.5/site-packages/ipykernel/__main__.py:14: UserWarning: Boolean Series key will be reindexed to match DataFrame index.\n"
     ]
    },
    {
     "name": "stdout",
     "output_type": "stream",
     "text": [
      "                        source state  ΔG_2->1   ΔG_1->0  ΔG_0->-1\n",
      "0    pKa_RodriguezPaluch_SMD_3  SM25      NaN       NaN    2.1569\n",
      "1    pKa_RodriguezPaluch_SMD_3  SM26      NaN       NaN  -13.0984\n",
      "2    pKa_RodriguezPaluch_SMD_3  SM27      NaN       NaN   -8.2109\n",
      "3    pKa_RodriguezPaluch_SMD_3  SM28      NaN -4.312796  -11.3033\n",
      "4    pKa_RodriguezPaluch_SMD_3  SM29      NaN       NaN  -8.05687\n",
      "5    pKa_RodriguezPaluch_SMD_3  SM30      NaN       NaN  -7.64218\n",
      "6    pKa_RodriguezPaluch_SMD_3  SM31      NaN       NaN  -7.79621\n",
      "7    pKa_RodriguezPaluch_SMD_3  SM32      NaN       NaN  -8.13981\n",
      "8    pKa_RodriguezPaluch_SMD_3  SM33      NaN       NaN  -7.03791\n",
      "9    pKa_RodriguezPaluch_SMD_3  SM34      NaN       NaN  -8.50118\n",
      "10   pKa_RodriguezPaluch_SMD_3  SM35      NaN       NaN  -7.08541\n",
      "11   pKa_RodriguezPaluch_SMD_3  SM36      NaN       NaN  -4.28699\n",
      "12   pKa_RodriguezPaluch_SMD_3  SM37      NaN -6.038170  -4.11766\n",
      "13   pKa_RodriguezPaluch_SMD_3  SM38      NaN       NaN  -7.35782\n",
      "14   pKa_RodriguezPaluch_SMD_3  SM39      NaN       NaN  -6.01896\n",
      "15   pKa_RodriguezPaluch_SMD_3  SM40      NaN -6.682464   -6.7891\n",
      "16   pKa_RodriguezPaluch_SMD_3  SM41      NaN -5.556872  -3.67891\n",
      "17   pKa_RodriguezPaluch_SMD_3  SM42      NaN -2.742891 -0.231043\n",
      "18   pKa_RodriguezPaluch_SMD_3  SM43 -21.5521 -4.739336  -1.01896\n",
      "19   pKa_RodriguezPaluch_SMD_3  SM44      NaN -4.425355  -5.24289\n",
      "20   pKa_RodriguezPaluch_SMD_3  SM45      NaN -4.745261  -4.88744\n",
      "21   pKa_RodriguezPaluch_SMD_3  SM46 -23.2938 -4.135071   -5.1718\n",
      "22   pKa_RodriguezPaluch_SMD_2  SM25      NaN       NaN   2.54773\n",
      "23   pKa_RodriguezPaluch_SMD_2  SM26      NaN       NaN  -13.8863\n",
      "24   pKa_RodriguezPaluch_SMD_2  SM27      NaN       NaN  -8.19905\n",
      "25   pKa_RodriguezPaluch_SMD_2  SM28      NaN -2.707346  -11.4573\n",
      "26   pKa_RodriguezPaluch_SMD_2  SM29      NaN       NaN  -7.32227\n",
      "27   pKa_RodriguezPaluch_SMD_2  SM30      NaN       NaN  -7.61848\n",
      "28   pKa_RodriguezPaluch_SMD_2  SM31      NaN       NaN  -7.55332\n",
      "29   pKa_RodriguezPaluch_SMD_2  SM32      NaN       NaN  -7.31043\n",
      "..                         ...   ...      ...       ...       ...\n",
      "168            pKa-IEFPCMMST-1  SM39     None       NaN    7.1327\n",
      "169            pKa-IEFPCMMST-1  SM40     None -5.077014   6.65284\n",
      "170            pKa-IEFPCMMST-1  SM41     None -8.210900   4.13507\n",
      "171            pKa-IEFPCMMST-1  SM42     None -8.441943   3.91588\n",
      "172            pKa-IEFPCMMST-1  SM43 -11.3033 -5.414692   3.56635\n",
      "173            pKa-IEFPCMMST-1  SM44     None -3.667062    5.7109\n",
      "174            pKa-IEFPCMMST-1  SM45     None -4.401659   5.93602\n",
      "175            pKa-IEFPCMMST-1  SM46 -7.79235 -3.931588   4.47867\n",
      "176               pKa-ECRISM-1  SM25     None -5.841751   3.27641\n",
      "177               pKa-ECRISM-1  SM26     None -5.951031   3.33235\n",
      "178               pKa-ECRISM-1  SM27     None       NaN   6.02488\n",
      "179               pKa-ECRISM-1  SM28     None -3.998976   8.26435\n",
      "180               pKa-ECRISM-1  SM29     None       NaN   5.85308\n",
      "181               pKa-ECRISM-1  SM30     None       NaN   5.56872\n",
      "182               pKa-ECRISM-1  SM31     None -1.113744   6.60545\n",
      "183               pKa-ECRISM-1  SM32     None       NaN   6.07227\n",
      "184               pKa-ECRISM-1  SM33     None       NaN   5.80569\n",
      "185               pKa-ECRISM-1  SM34     None -0.639810   6.16114\n",
      "186               pKa-ECRISM-1  SM35     None       NaN   5.67433\n",
      "187               pKa-ECRISM-1  SM36     None       NaN   5.57169\n",
      "188               pKa-ECRISM-1  SM37     None -0.826671   5.88725\n",
      "189               pKa-ECRISM-1  SM38     None       NaN    5.5154\n",
      "190               pKa-ECRISM-1  SM39     None       NaN   5.00592\n",
      "191               pKa-ECRISM-1  SM40     None -1.599526   5.56872\n",
      "192               pKa-ECRISM-1  SM41     None -3.003555   3.40047\n",
      "193               pKa-ECRISM-1  SM42     None -3.218414   3.36059\n",
      "194               pKa-ECRISM-1  SM43  -5.9726 -1.643136   3.90721\n",
      "195               pKa-ECRISM-1  SM44     None -1.380332   3.74408\n",
      "196               pKa-ECRISM-1  SM45     None -1.332938   3.58412\n",
      "197               pKa-ECRISM-1  SM46 -4.46204 -0.774924   3.86256\n",
      "\n",
      "[198 rows x 5 columns]\n"
     ]
    }
   ],
   "source": [
    "path = './data'\n",
    "\n",
    "files = os.listdir(path)\n",
    "\n",
    "final_energy = pd.DataFrame(columns=['source', 'state', 'ΔG_2->1', 'ΔG_1->0', 'ΔG_0->-1'])\n",
    "for f in files:\n",
    "    data = pd.read_csv(path + '/' + f)\n",
    "    energy_calculation(data, f, final_energy)\n",
    "\n",
    "print(final_energy) \n",
    "final_energy.to_csv('ΔG_compare_for_diff_sources.csv')"
   ]
  },
  {
   "cell_type": "code",
   "execution_count": null,
   "metadata": {
    "collapsed": true
   },
   "outputs": [],
   "source": []
  }
 ],
 "metadata": {
  "anaconda-cloud": {},
  "kernelspec": {
   "display_name": "Python [anaconda]",
   "language": "python",
   "name": "Python [anaconda]"
  },
  "language_info": {
   "codemirror_mode": {
    "name": "ipython",
    "version": 3
   },
   "file_extension": ".py",
   "mimetype": "text/x-python",
   "name": "python",
   "nbconvert_exporter": "python",
   "pygments_lexer": "ipython3",
   "version": "3.5.6"
  }
 },
 "nbformat": 4,
 "nbformat_minor": 0
}
